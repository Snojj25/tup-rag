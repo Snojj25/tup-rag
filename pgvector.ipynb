{
 "cells": [
  {
   "cell_type": "markdown",
   "id": "65502d0d-876c-403c-b9aa-8b3745cb593b",
   "metadata": {},
   "source": [
    "## Uvod\n",
    "\n",
    "Prikazana je uporaba PostgreSQL razširitve **pgvector** za delo z vektorskimi podatki. Namen je prikazati celoten postopek obdelave in analize podatkov na podlagi embeddingov, od začetne priprave podatkov do izvedbe naprednih poizvedb. Naloga je zasnovana okoli podatkov o izdelkih, uvoženih z Amazona, kjer vsak izdelek vsebuje atribute, kot so kategorija, naslov, opis, lastnosti in druge podrobnosti.\n",
    "\n",
    "### Vsebina naloge:\n",
    "1. **Priprava podatkov:**\n",
    "   - Uvoz podatkov o izdelkih iz Amazona v obliki JSONL datoteke.\n",
    "   - Podatki prebrani, prečiščeni in uvoženi v PostgreSQL tabelo z ustrezno strukturo.\n",
    "\n",
    "2. **Generiranje embeddingov:**\n",
    "   - Z uporabo modela **SentenceTransformer** so za vsak izdelek generirani embeddingi, ki predstavljajo vektorsko predstavitev atributov izdelka (naslov, opis, lastnosti, kategorije).\n",
    "   - Generirani embeddingi so shranjeni v PostgreSQL tabeli.\n",
    "\n",
    "3. **CRUD operacije:**\n",
    "   - Osnovne operacije ustvarjanja, branja, posodabljanja in brisanja zapisov v tabeli.\n",
    "   - Meritev časa izvajanja in porabo pomnilnika.\n",
    "\n",
    "4. **Poizvedbe brez indeksa:**\n",
    "   - Izvedba poizvedb za iskanje podobnih izdelkov na podlagi embeddingov, brez uporabe indeksov.\n",
    "\n",
    "5. **Uporaba indeksa:**\n",
    "   - Na stolpcu embedding uporaba **ivfflat indeksa**, ki omogoča optimizacijo iskanja najbližjih sosedov.\n",
    "   - Ponovitev ključnih poizvedb za primerjavo zmogljivost brez in z indeksom.\n",
    "\n",
    "6. **Analiza rezultatov:**\n",
    "   - Primerjava časa izvajanja in poraba pomnilnika med poizvedbami brez indeksa in z indeksom.\n"
   ]
  },
  {
   "cell_type": "code",
   "execution_count": null,
   "id": "0ae03d27",
   "metadata": {},
   "outputs": [],
   "source": [
    "import gzip\n",
    "import json\n",
    "\n",
    "# Pot do datoeke\n",
    "file_path = r'C:\\Users\\sara\\Downloads\\meta_Musical_Instruments.jsonl\\meta_Musical_Instruments.jsonl'\n",
    "\n",
    "# Razpakiramo datoteko in preberemo vsebino\n",
    "data = []\n",
    "with open(file_path, 'r', encoding='utf-8') as f:\n",
    "    for line in f:\n",
    "        data.append(json.loads(line))\n",
    "\n",
    "# Izpis prvih nekaj zapisov\n",
    "for i, record in enumerate(data[:5]):  # Prikažemo prvih 5 zapisov\n",
    "    print(f\"Zapis {i + 1}: {record}\")\n"
   ]
  },
  {
   "cell_type": "code",
   "execution_count": null,
   "id": "a6bd9d29",
   "metadata": {},
   "outputs": [],
   "source": [
    "# Izpis prvega elementa\n",
    "first_record = data[0]\n",
    "\n",
    "# Prikaz strukture prvega elementa\n",
    "print(\"Prvi zapis:\")\n",
    "for key, value in first_record.items():\n",
    "    print(f\"{key}: {value}\")"
   ]
  },
  {
   "cell_type": "markdown",
   "id": "805a66e1-4058-48fe-96d6-b6d3b311e1c2",
   "metadata": {},
   "source": [
    "Prvi zapis:  \n",
    "main_category: Musical Instruments  \n",
    "title: Pearl Export Lacquer EXL725S/C249 5-Piece New Fusion Drum Set with Hardware, Honey Amber  \n",
    "average_rating: 4.2  \n",
    "rating_number: 22  \n",
    "features: ['Item may ship in more than one box and may arrive separately', '(22x18, 10x7, 12x8, 16x16, 14x5.5)', 'P930 Demonator Pedal', '830 Hardware Pack', 'Matching snare, REMO snare batter side head']  \n",
    "description: [\"Introducing the best selling drum set of all time... Export Series returns and this time with a lacquer finish. EXL Export Lacquer Series incorporates Pearl's S.S.T. Superior Shell Technology, Opti-Loc tom mounts, all-new 830 Series Hardware with a P-930 Pedal, and a choice of three amazing stocking finishes.\"]  \n",
    "price: None  \n",
    "images: [{'thumb': 'https://m.media-amazon.com/images/I/51QYyZgky-L._AC_US40_.jpg', 'large': 'https://m.media-amazon.com/images/I/51QYyZgky-L._AC_.jpg'}]  \n",
    "videos: [{'title': 'Best Selling Drum Set of All Time', 'url': 'https://www.amazon.com/vdp/0be29e27175a4280aa9c2027ec3664b4?ref=dp_vse_rvc_0', 'user_id': ''}]  \n",
    "store: Pearl  \n",
    "categories: ['Musical Instruments', 'Drums & Percussion', 'Drum Sets & Set Components', 'Drum Sets']  \n",
    "details: {'Item Weight': '33 pounds', 'Product Dimensions': '22 x 22 x 20 inches', 'Item model number': 'EXL725S/C249', 'Best Sellers Rank': {'Musical Instruments': 150300, 'Drum Sets': 521}, 'Date First Available': 'April 4, 2014', 'Color Name': 'Honey Amber', 'Material Type': 'Pearl', 'Size': '-inch', 'Color': 'Honey Amber', 'Brand': 'Pearl', 'Material': 'Pearl', 'Model Name': 'EXL725S', 'Item Dimensions LxWxH': '22 x 22 x 20 inches'}  \n",
    "parent_asin: B01M4HO6RK  \n",
    "bought_together: None  "
   ]
  },
  {
   "cell_type": "code",
   "execution_count": null,
   "id": "94f010ea",
   "metadata": {},
   "outputs": [],
   "source": [
    "# Omejimo podatke na pomembne atribute\n",
    "filtered_data = []\n",
    "for record in data[:10000]:  # Omejimo na 10,000 zapisov\n",
    "    filtered_record = {\n",
    "        \"main_category\": record.get(\"main_category\", None),  #Ce ne najde categorije postavi na None\n",
    "        \"title\": record.get(\"title\", None),\n",
    "        \"description\": record.get(\"description\", None),\n",
    "        \"features\": record.get(\"features\", []),\n",
    "        \"categories\": record.get(\"categories\", [])\n",
    "    }\n",
    "    filtered_data.append(filtered_record)\n"
   ]
  },
  {
   "cell_type": "code",
   "execution_count": null,
   "id": "32fba3d1",
   "metadata": {},
   "outputs": [],
   "source": [
    "# Izpis prvega elementa\n",
    "first_record = filtered_data[0]\n",
    "\n",
    "# Prikaz strukture prvega elementa\n",
    "print(\"Prvi zapis:\")\n",
    "for key, value in first_record.items():\n",
    "    print(f\"{key}: {value}\")"
   ]
  },
  {
   "cell_type": "markdown",
   "id": "73376b10-0a89-40e1-a9b7-c20dec29e124",
   "metadata": {},
   "source": [
    "Prvi zapis:  \n",
    "main_category: Musical Instruments  \n",
    "title: Pearl Export Lacquer EXL725S/C249 5-Piece New Fusion Drum Set with Hardware, Honey Amber  \n",
    "description: [\"Introducing the best selling drum set of all time... Export Series returns and this time with a lacquer finish. EXL Export Lacquer Series incorporates Pearl's S.S.T. Superior Shell Technology, Opti-Loc tom mounts, all-new 830 Series Hardware with a P-930 Pedal, and a choice of three amazing stocking finishes.\"]  \n",
    "features: ['Item may ship in more than one box and may arrive separately', '(22x18, 10x7, 12x8, 16x16, 14x5.5)', 'P930 Demonator Pedal', '830 Hardware Pack', 'Matching snare, REMO snare batter side head']  \n",
    "categories: ['Musical Instruments', 'Drums & Percussion', 'Drum Sets & Set Components', 'Drum Sets']  "
   ]
  },
  {
   "cell_type": "code",
   "execution_count": 1,
   "id": "f974c66a",
   "metadata": {},
   "outputs": [
    {
     "name": "stdout",
     "output_type": "stream",
     "text": [
      "Povezava do baze je bila uspešno vzpostavljena!\n"
     ]
    }
   ],
   "source": [
    "import psycopg2\n",
    "\n",
    "# Povezava do PostgreSQL baze\n",
    "try:\n",
    "    conn = psycopg2.connect(\n",
    "        host=\"localhost\", \n",
    "        port=\"5433\",  \n",
    "        database=\"product_db\",  \n",
    "        user=\"postgres\",\n",
    "        password=\"password\"  \n",
    "    )\n",
    "    print(\"Povezava do baze je bila uspešno vzpostavljena!\")\n",
    "except Exception as e:\n",
    "    print(\"Napaka pri povezavi:\", e)\n",
    "    conn = None"
   ]
  },
  {
   "cell_type": "code",
   "execution_count": 10,
   "id": "e2dcd72a",
   "metadata": {},
   "outputs": [
    {
     "name": "stdout",
     "output_type": "stream",
     "text": [
      "Tabela 'products_filtered' je bila uspešno ustvarjena!\n"
     ]
    }
   ],
   "source": [
    "cur = conn.cursor()\n",
    "# Ustvari tabelo v PostgreSQL\n",
    "create_table_query = \"\"\"\n",
    "CREATE TABLE IF NOT EXISTS products (\n",
    "    id SERIAL PRIMARY KEY,\n",
    "    main_category TEXT,\n",
    "    title TEXT,\n",
    "    description TEXT,\n",
    "    features TEXT[],      \n",
    "    categories TEXT[]     \n",
    ");\n",
    "\"\"\"\n",
    "cur.execute(create_table_query)\n",
    "conn.commit()\n",
    "print(\"Tabela 'products' je bila uspešno ustvarjena!\")"
   ]
  },
  {
   "cell_type": "code",
   "execution_count": 11,
   "id": "914947f7",
   "metadata": {},
   "outputs": [
    {
     "name": "stdout",
     "output_type": "stream",
     "text": [
      "10,000 zapisov je bilo uspešno vstavljenih v tabelo 'products'!\n"
     ]
    }
   ],
   "source": [
    "cur = conn.cursor()\n",
    "# SQL za vstavljanje podatkov\n",
    "insert_query = \"\"\"\n",
    "INSERT INTO products (main_category, title, description, features, categories)\n",
    "VALUES (%s, %s, %s, %s, %s);\n",
    "\"\"\"\n",
    "\n",
    "# Vstavljanje podatkov\n",
    "for record in filtered_data:\n",
    "    cur.execute(insert_query, (\n",
    "        record[\"main_category\"],\n",
    "        record[\"title\"],\n",
    "        record[\"description\"],\n",
    "        record[\"features\"],\n",
    "        record[\"categories\"]\n",
    "    ))\n",
    "conn.commit()\n",
    "print(\"10,000 zapisov je bilo uspešno vstavljenih v tabelo 'products'!\")"
   ]
  },
  {
   "cell_type": "code",
   "execution_count": 2,
   "id": "cb267eb5",
   "metadata": {},
   "outputs": [
    {
     "name": "stdout",
     "output_type": "stream",
     "text": [
      "Število zapisov v tabeli 'products': 10000\n",
      "(1, 'Musical Instruments', 'Pearl Export Lacquer EXL725S/C249 5-Piece New Fusion Drum Set with Hardware, Honey Amber', '{\"Introducing the best selling drum set of all time... Export Series returns and this time with a lacquer finish. EXL Export Lacquer Series incorporates Pearl\\'s S.S.T. Superior Shell Technology, Opti-Loc tom mounts, all-new 830 Series Hardware with a P-930 Pedal, and a choice of three amazing stocking finishes.\"}', ['Item may ship in more than one box and may arrive separately', '(22x18, 10x7, 12x8, 16x16, 14x5.5)', 'P930 Demonator Pedal', '830 Hardware Pack', 'Matching snare, REMO snare batter side head'], ['Musical Instruments', 'Drums & Percussion', 'Drum Sets & Set Components', 'Drum Sets'], None)\n"
     ]
    }
   ],
   "source": [
    "cur = conn.cursor()\n",
    "# Preveri število zapisov\n",
    "cur.execute(\"SELECT COUNT(*) FROM products;\")\n",
    "count = cur.fetchone()\n",
    "conn.commit()\n",
    "print(\"Število zapisov v tabeli 'products':\", count[0])\n",
    "\n",
    "# Pridobi prvih nekaj zapisov\n",
    "cur.execute(\"SELECT * FROM products LIMIT 1;\")\n",
    "rows = cur.fetchall()\n",
    "conn.commit()\n",
    "for row in rows:\n",
    "    print(row)"
   ]
  },
  {
   "cell_type": "code",
   "execution_count": 5,
   "id": "8cf39393-8934-4118-ad21-dbf376de79e0",
   "metadata": {},
   "outputs": [
    {
     "name": "stdout",
     "output_type": "stream",
     "text": [
      "Stolpec 'embedding' je bil uspešno dodan!\n"
     ]
    }
   ],
   "source": [
    "# Dodajanje stolpca embedding\n",
    "cur.execute(\"\"\"\n",
    "    ALTER TABLE products\n",
    "    ADD COLUMN embedding vector(384);\n",
    "\"\"\")\n",
    "conn.commit()\n",
    "\n",
    "print(\"Stolpec 'embedding' je bil uspešno dodan!\")"
   ]
  },
  {
   "cell_type": "code",
   "execution_count": 3,
   "id": "1669b442-f892-459d-883c-842239b66282",
   "metadata": {},
   "outputs": [
    {
     "name": "stdout",
     "output_type": "stream",
     "text": [
      "('id', 'integer')\n",
      "('embedding', 'USER-DEFINED')\n",
      "('title', 'text')\n",
      "('features', 'ARRAY')\n",
      "('categories', 'ARRAY')\n",
      "('description', 'text')\n",
      "('main_category', 'text')\n"
     ]
    }
   ],
   "source": [
    "cur.execute(\"\"\"\n",
    "    SELECT column_name, data_type\n",
    "    FROM information_schema.columns\n",
    "    WHERE table_name = 'products';\n",
    "\"\"\")\n",
    "columns = cur.fetchall()\n",
    "conn.commit()\n",
    "for column in columns:\n",
    "    print(column)"
   ]
  },
  {
   "cell_type": "markdown",
   "id": "b4458ca4-e2c3-48fa-be0b-08161fecf6e4",
   "metadata": {},
   "source": [
    "### GENERIRANJE EMBEDDINGOV"
   ]
  },
  {
   "cell_type": "code",
   "execution_count": null,
   "id": "112ddc81-e3ea-46d7-ad45-6c939fbe43a4",
   "metadata": {},
   "outputs": [],
   "source": [
    "from sentence_transformers import SentenceTransformer\n",
    "import time\n",
    "\n",
    "# Inicializacija modela\n",
    "model = SentenceTransformer('all-MiniLM-L6-v2')\n",
    "\n",
    "batch_size = 100  # Velikost sklopa za hitrejše obdelovanje\n",
    "total_records = len(filtered_data)  # Skupno število zapisov\n",
    "start_time = time.time()\n",
    "\n",
    "# Obdelaj zapise v batchih\n",
    "for i in range(0, total_records, batch_size):\n",
    "    batch = filtered_data[i:i + batch_size]\n",
    "    texts = [\n",
    "        f\"{record[1] or ''} {record[2] or ''} {' '.join(record[3] or [])} {' '.join(record[4] or [])}\"\n",
    "        for record in batch\n",
    "    ]\n",
    "    \n",
    "    # Generiraj embeddinge za trenutni batch\n",
    "    batch_embeddings = model.encode(texts)\n",
    "    \n",
    "    # Shrani ID-je in embeddinge v bazo\n",
    "    for idx, embedding in enumerate(batch_embeddings):\n",
    "        record_id = batch[idx][0]\n",
    "        cur.execute(\"\"\"\n",
    "            UPDATE products\n",
    "            SET embedding = %s\n",
    "            WHERE id = %s;\n",
    "        \"\"\", (embedding.tolist(), record_id))  # Shranimo embedding kot seznam\n",
    "    conn.commit()  # Potrdimo spremembe po vsakem batchu\n",
    "\n",
    "    # Izpiši napredek\n",
    "    elapsed_time = time.time() - start_time\n",
    "    print(f\"Obdelanih {i + len(batch)}/{total_records} zapisov. Čas od začetka: {elapsed_time:.2f} s\")\n",
    "\n",
    "print(\"Embeddingi uspešno generirani in shranjeni za vse zapise!\")\n"
   ]
  },
  {
   "cell_type": "markdown",
   "id": "3783243b-4472-4d95-b8b5-09127927c6e2",
   "metadata": {},
   "source": [
    "### Rezultati\n",
    "Obdelanih 100/10000 zapisov. Čas od začetka: 8.13 s  \n",
    "Obdelanih 200/10000 zapisov. Čas od začetka: 16.19 s  \n",
    "Obdelanih 300/10000 zapisov. Čas od začetka: 24.51 s  \n",
    "Obdelanih 400/10000 zapisov. Čas od začetka: 32.87 s  \n",
    "...  \n",
    "Obdelanih 9700/10000 zapisov. Čas od začetka: 809.45 s  \n",
    "Obdelanih 9800/10000 zapisov. Čas od začetka: 817.84 s  \n",
    "Obdelanih 9900/10000 zapisov. Čas od začetka: 826.27 s  \n",
    "Obdelanih 10000/10000 zapisov. Čas od začetka: 834.66 s  \n",
    "Embeddingi uspešno generirani in shranjeni za vse zapise!  "
   ]
  },
  {
   "cell_type": "code",
   "execution_count": 7,
   "id": "da03cdb0-8fbe-467e-8379-9b194bcd25f3",
   "metadata": {},
   "outputs": [
    {
     "name": "stdout",
     "output_type": "stream",
     "text": [
      "Število izdelkov z generiranimi embeddingi: 10000\n"
     ]
    }
   ],
   "source": [
    "cur.execute(\"SELECT COUNT(*) FROM products WHERE embedding IS NOT NULL;\")\n",
    "count = cur.fetchone()[0]\n",
    "print(f\"Število izdelkov z generiranimi embeddingi: {count}\")"
   ]
  },
  {
   "cell_type": "markdown",
   "id": "ab73b1a6-79dd-4b8a-bfae-d8c0f77bfd1a",
   "metadata": {},
   "source": [
    "# PRIMER UPORABE PGVECTOR - Amazon Products"
   ]
  },
  {
   "cell_type": "markdown",
   "id": "d3f858f8-28b3-437d-b183-0eb38f8050f4",
   "metadata": {},
   "source": [
    "## Osnovne CRUD Operacije\n",
    "\n",
    "V tej sekciji bomo prikazali osnovne operacije za delo z bazo podatkov PostgreSQL, kjer je shranjena tabela **products**. Operacije vključujejo:\n",
    "\n",
    "1. **Create (Ustvarjanje):** Dodajanje novega zapisa v tabelo.\n",
    "2. **Read (Branje):** Pridobivanje podatkov iz tabele.\n",
    "3. **Update (Posodabljanje):** Spreminjanje obstoječih podatkov.\n",
    "4. **Delete (Brisanje):** Odstranjevanje zapisa iz tabele.\n",
    "\n",
    "Poleg same izvedbe operacij bomo za vsako izmerili čas izvajanja, da dobimo vpogled v učinkovitost.\n"
   ]
  },
  {
   "cell_type": "markdown",
   "id": "ae7cdb5d-4342-43ff-a7e3-91eb734ac080",
   "metadata": {},
   "source": [
    "### CREATE OPERACIJA"
   ]
  },
  {
   "cell_type": "code",
   "execution_count": null,
   "id": "2a168348-134d-4ea9-a3c1-42e1c64d5e55",
   "metadata": {},
   "outputs": [],
   "source": [
    "import psutil\n",
    "import time\n",
    "from sentence_transformers import SentenceTransformer\n",
    "\n",
    "# Inicializacija modela\n",
    "model = SentenceTransformer('all-MiniLM-L6-v2')\n",
    "\n",
    "# Priprava podatkov\n",
    "title = \"Yamaha Acoustic Guitar\"\n",
    "description = \"A high-quality acoustic guitar for beginners and professionals alike.\"\n",
    "features = [\"6 strings\", \"Spruce top\", \"Mahogany back and sides\"]\n",
    "categories = [\"Guitars\", \"Acoustic Guitars\"]\n",
    "text = f\"{title} {description} {' '.join(features)} {' '.join(categories)}\"\n",
    "\n",
    "# Generiraj embedding (384 dimenzij)\n",
    "embedding = model.encode(text).tolist()\n",
    "\n",
    "# Merjenje pomnilnika\n",
    "process = psutil.Process()\n",
    "start_memory = process.memory_info().rss  # Začetna poraba pomnilnika\n",
    "start_time = time.time()  # Začetni čas\n",
    "\n",
    "# CREATE: Dodajanje zapisa\n",
    "cur.execute(\"\"\"\n",
    "    INSERT INTO products (main_category, title, description, features, categories, embedding)\n",
    "    VALUES (%s, %s, %s, %s, %s, %s);\n",
    "\"\"\", (\n",
    "    \"Musical Instruments\",\n",
    "    title,\n",
    "    description,\n",
    "    features,\n",
    "    categories,\n",
    "    embedding\n",
    "))\n",
    "conn.commit()\n",
    "\n",
    "# Merjenje končne porabe pomnilnika in časa\n",
    "end_time = time.time()\n",
    "end_memory = process.memory_info().rss  # Končna poraba pomnilnika\n",
    "\n",
    "# Izpis rezultatov\n",
    "print(f\"Zapis uspešno dodan.\")\n",
    "print(f\"Čas izvajanja: {end_time - start_time:.4f} s\")\n",
    "print(f\"Poraba pomnilnika: {end_memory - start_memory} bajtov\")\n"
   ]
  },
  {
   "cell_type": "markdown",
   "id": "9e8669e7-9985-4bf2-ad94-440bf0d73f85",
   "metadata": {},
   "source": [
    "Zapis uspešno dodan.  \n",
    "Čas izvajanja: 0.0753 s  \n",
    "Poraba pomnilnika: 4096 bajtov  "
   ]
  },
  {
   "cell_type": "markdown",
   "id": "883e784d-906a-45e9-8ff7-355a4b8e2157",
   "metadata": {},
   "source": [
    "### READ OPERACIJA"
   ]
  },
  {
   "cell_type": "code",
   "execution_count": null,
   "id": "98ab85f5-8ebf-4381-80d7-fb6ad50700a0",
   "metadata": {},
   "outputs": [],
   "source": [
    "import time\n",
    "import psutil\n",
    "import os\n",
    "\n",
    "# Inicializacija spremljanja pomnilnika\n",
    "process = psutil.Process(os.getpid())\n",
    "start_memory = process.memory_info().rss  # Pomnilnik na začetku v bajtih\n",
    "start_time = time.time()  # Čas na začetku\n",
    "\n",
    "# Poizvedba za izdelek s točno določenim naslovom\n",
    "cur.execute(\"SELECT id, title, main_category, description FROM products WHERE title = %s;\", (\"Yamaha Acoustic Guitar\",))\n",
    "result = cur.fetchone()\n",
    "\n",
    "# Čas in pomnilnik po izvedbi poizvedbe\n",
    "end_time = time.time()\n",
    "end_memory = process.memory_info().rss\n",
    "\n",
    "# Izpis pomembnih rezultatov\n",
    "if result:\n",
    "    print(f\"Pridobljen zapis:\")\n",
    "    print(f\"ID: {result[0]}, Title: {result[1]}\")\n",
    "    print(f\"Category: {result[2]}\")\n",
    "    print(f\"Description: {result[3][:50]}...\")  # Prikaz prvih 50 znakov opisa\n",
    "else:\n",
    "    print(\"Zapis ni bil najden.\")\n",
    "\n",
    "# Izpis časa in pomnilnika\n",
    "print(f\"Čas izvajanja: {end_time - start_time:.4f} s\")\n",
    "print(f\"Poraba pomnilnika: {end_memory - start_memory} bajtov\")\n"
   ]
  },
  {
   "cell_type": "markdown",
   "id": "a2a8ee88-84db-430b-882f-dc4966a4241b",
   "metadata": {},
   "source": [
    "Pridobljen zapis:  \n",
    "ID: 10005, Title: Yamaha Acoustic Guitar  \n",
    "Category: Musical Instruments  \n",
    "Description: A high-quality acoustic guitar for beginners and p...  \n",
    "Čas izvajanja: 0.0140 s  \n",
    "Poraba pomnilnika: 8192 bajtov  "
   ]
  },
  {
   "cell_type": "markdown",
   "id": "29877605-96a2-4b05-8685-779a258e185c",
   "metadata": {},
   "source": [
    "### UPDATE OPERACIJA"
   ]
  },
  {
   "cell_type": "code",
   "execution_count": null,
   "id": "c1ec5c2e-653f-4ab7-bcb0-700218acdc69",
   "metadata": {},
   "outputs": [],
   "source": [
    "from sentence_transformers import SentenceTransformer\n",
    "\n",
    "# Inicializacija modela\n",
    "model = SentenceTransformer('all-MiniLM-L6-v2')\n",
    "\n",
    "# Priprava novih podatkov\n",
    "new_description = \"Updated description for the Yamaha Acoustic Guitar.\"\n",
    "title = \"Yamaha Acoustic Guitar\"\n",
    "features = [\"6 strings\", \"Spruce top\", \"Mahogany back and sides\"]\n",
    "categories = [\"Guitars\", \"Acoustic Guitars\"]\n",
    "\n",
    "# Združi podatke za generiranje novega embeddinga\n",
    "text = f\"{title} {new_description} {' '.join(features)} {' '.join(categories)}\"\n",
    "new_embedding = model.encode(text).tolist()\n",
    "\n",
    "# Merjenje pomnilnika in časa\n",
    "process = psutil.Process()\n",
    "start_memory = process.memory_info().rss\n",
    "start_time = time.time()\n",
    "\n",
    "# UPDATE: Posodobitev zapisa z novim opisom in embeddingom\n",
    "cur.execute(\"\"\"\n",
    "    UPDATE products\n",
    "    SET description = %s, embedding = %s\n",
    "    WHERE title = %s;\n",
    "\"\"\", (new_description, new_embedding, title))\n",
    "conn.commit()\n",
    "\n",
    "# Merjenje končne porabe pomnilnika in časa\n",
    "end_time = time.time()\n",
    "end_memory = process.memory_info().rss\n",
    "\n",
    "# Izpis rezultatov\n",
    "print(f\"Zapis uspešno posodobljen z novim opisom in embeddingom.\")\n",
    "print(f\"Čas izvajanja: {end_time - start_time:.4f} s\")\n",
    "print(f\"Poraba pomnilnika: {end_memory - start_memory} bajtov\")\n"
   ]
  },
  {
   "cell_type": "markdown",
   "id": "e93c97d5-553d-4f24-8310-326febeb56a4",
   "metadata": {},
   "source": [
    "Zapis uspešno posodobljen z novim opisom in embeddingom.  \n",
    "Čas izvajanja: 0.0790 s  \n",
    "Poraba pomnilnika: 4096 bajtov  "
   ]
  },
  {
   "cell_type": "markdown",
   "id": "3bbd02fe-4ef2-45c0-bbe0-58ade5ae1353",
   "metadata": {},
   "source": [
    "### DELETE OPERACIJA"
   ]
  },
  {
   "cell_type": "code",
   "execution_count": null,
   "id": "c4a4f39e-9c7e-4e6a-9797-1d9c19700506",
   "metadata": {},
   "outputs": [],
   "source": [
    "# Merjenje pomnilnika\n",
    "process = psutil.Process()\n",
    "start_memory = process.memory_info().rss\n",
    "start_time = time.time()\n",
    "\n",
    "# DELETE: Brisanje zapisa\n",
    "cur.execute(\"\"\"\n",
    "    DELETE FROM products WHERE title = %s;\n",
    "\"\"\", (\"Yamaha Acoustic Guitar\",))\n",
    "conn.commit()\n",
    "\n",
    "# Merjenje končne porabe pomnilnika in časa\n",
    "end_time = time.time()\n",
    "end_memory = process.memory_info().rss\n",
    "\n",
    "# Izpis rezultatov\n",
    "print(f\"Zapis uspešno izbrisan.\")\n",
    "print(f\"Čas izvajanja: {end_time - start_time:.4f} s\")\n",
    "print(f\"Poraba pomnilnika: {end_memory - start_memory} bajtov\")\n"
   ]
  },
  {
   "cell_type": "markdown",
   "id": "74bb94eb-345e-48ac-9e73-f9e7aee16770",
   "metadata": {},
   "source": [
    "Zapis uspešno izbrisan.  \n",
    "Čas izvajanja: 0.0283 s  \n",
    "Poraba pomnilnika: 12288 bajtov  "
   ]
  },
  {
   "cell_type": "markdown",
   "id": "0e876a3f-1244-4a48-9e65-c30b6b7855f5",
   "metadata": {},
   "source": [
    "# Poizvedbe  z uporabo pgvector"
   ]
  },
  {
   "cell_type": "markdown",
   "id": "f63e0116-e67b-44a8-96ab-deed4299a100",
   "metadata": {},
   "source": [
    "## 1. Pridobitev najbližjih sosedov (nearest neighbors)\n",
    "\n",
    "Ta poizvedba vrne izdelke, katerih embeddingi so najbližji določenemu ciljnemu embeddingu, brez uporabe indeksa. Najbližje sosednje izdelke določimo z uporabo funkcije **pgvector** za merjenje razdalje.\n",
    "\n",
    "### Poizvedba\n",
    "- Izračun razdalje med ciljnim embeddingom in vsemi embeddingi v tabeli `products`.\n",
    "- Razvrstitev izdelkov po razdalji (najmanjša razdalja je najbolj podobna).\n",
    "- Omejitev rezultatov na 10 rezultatov.\n"
   ]
  },
  {
   "cell_type": "code",
   "execution_count": null,
   "id": "425505be-2137-4f74-9e4f-7cd513369fca",
   "metadata": {},
   "outputs": [],
   "source": [
    "import time\n",
    "import psutil\n",
    "import os\n",
    "\n",
    "# Inicializacija spremljanja pomnilnika\n",
    "process = psutil.Process(os.getpid())\n",
    "start_memory = process.memory_info().rss  # Pomnilnik na začetku v bajtih\n",
    "\n",
    "# Preverimo, ali ima generiran embedding pravilno dimenzijo\n",
    "target_embedding = model.encode(\"Acoustic guitar for beginners\").tolist()\n",
    "\n",
    "# Preverjanje dimenzije embeddinga\n",
    "if len(target_embedding) != 384:\n",
    "    raise ValueError(f\"Embedding mora imeti dimenzijo 384, a ima {len(target_embedding)}.\")\n",
    "\n",
    "# Začetek merjenja časa\n",
    "start_time = time.time()\n",
    "\n",
    "# SQL poizvedba za pridobitev najbližjih sosedov z evklidsko razdaljo\n",
    "cur.execute(\"\"\"\n",
    "    SELECT id, title, main_category, embedding <-> %s::vector AS distance\n",
    "    FROM products\n",
    "    ORDER BY distance ASC\n",
    "    LIMIT 10;\n",
    "\"\"\", (target_embedding,))  # Embedding predamo kot parameter\n",
    "\n",
    "# Prikaz rezultatov\n",
    "results = cur.fetchall()\n",
    "end_time = time.time()\n",
    "\n",
    "# Merjenje pomnilnika po izvedbi\n",
    "end_memory = process.memory_info().rss  # Pomnilnik na koncu v bajtih\n",
    "\n",
    "# Izpis rezultatov\n",
    "print(f\"Najbližji sosedi (10 rezultatov):\")\n",
    "for row in results:\n",
    "    print(f\"ID: {row[0]}, Title: {row[1]}, Category: {row[2]}, Distance: {row[3]:.4f}\")\n",
    "\n",
    "# Izračun in izpis časa izvajanja\n",
    "elapsed_time = end_time - start_time\n",
    "print(f\"Čas izvajanja: {elapsed_time:.4f} s\")\n",
    "\n",
    "# Izračun in izpis porabe pomnilnika\n",
    "memory_used = (end_memory - start_memory) / (1024 * 1024)  # Pretvorimo v MB\n",
    "print(f\"Poraba pomnilnika: {memory_used:.2f} MB\")\n"
   ]
  },
  {
   "cell_type": "markdown",
   "id": "0457ac40-d3da-4af3-8657-9a70427f7faf",
   "metadata": {},
   "source": [
    "### Najdeni rezultati poizvedbe\n",
    "Najbližji sosedi (10 rezultatov):  \n",
    "ID: 6237, Title: Best Choice Products 38in Beginner All Wood Acoustic Guitar Starter Kit w/Case, Strap, Digital Tuner, Pick, Strings - SoCal Green, Category: Musical Instruments, Distance: 0.7093  \n",
    "ID: 6953, Title: Ashthorpe 38-inch Beginner Acoustic Guitar Package (Blue), Basic Starter Kit w/Gig Bag, Strings, Strap, Tuner, Pitch Pipe, Picks, Category: Musical Instruments, Distance: 0.7350  \n",
    "ID: 415, Title: ADM Acoustic Guitar 38 Inch for Kids Beginner Adults Steel Strings Cutaway Wooden Acustica Guitarra Bundle Starter Kit with Free Learning Lessons Card, Gig Bag, Tuner, Strap, Picks, Capo etc, Blue, Category: Musical Instruments, Distance: 0.7601  \n",
    "ID: 9799, Title: Full Size Dreadnaught Mahogany Acoustic Guitar With Six Steel String Gig Bag For Beginners - Natural, Category: Musical Instruments, Distance: 0.7642  \n",
    "ID: 5937, Title: Best Choice Products Beginner Acoustic Electric Guitar Starter Set 38in w/All Wood Cutaway Design, Case, Strap, Picks, Tuner - Blue, Category: Musical Instruments, Distance: 0.7753  \n",
    "ID: 7237, Title: Asmuse 38 inch Acoustic Guitar Kit, Full Size Classical Acoustic Guitar 6 Strings with Gig Bag, Tuner, Picks, Strap Accessories for Beginners Adults Teens (Blue), Category: Musical Instruments, Distance: 0.7764  \n",
    "ID: 4191, Title: LAGRIMA 38 inch 4/4 Size Beginner Acoustic Guitar Set Starter Kit with Gig Bag, Picks & Steel Strings for Kids/Beginners/Adults (Blue), Category: Musical Instruments, Distance: 0.7924  \n",
    "ID: 9374, Title: 38\" Wood Guitar With Case and Accessories for Kids/Boys/Girls/Teens/Beginners (Pink), Category: Musical Instruments, Distance: 0.8129  \n",
    "ID: 2721, Title: Guitar Beginner,One-key chord assisted learning tool for guitar beginners Guitar Practice Aid Tool for Adults & Children Trainer Beginners (white), Category: Musical Instruments, Distance: 0.8410  \n",
    "ID: 343, Title: Beginner Acoustic Guitar Ranch 41\" Full Size Solid Wood Cutaway Beginners Steel String Guitars Kit Bundle with Gig Bag/Tuner/Capo/Strings/Strap/Picks Set Starter Guitar Pack for Adults (Dreadnought), Category: Musical Instruments, Distance: 0.8439  \n",
    "#### BREZ INDEKSA\n",
    "Čas izvajanja: 0.1224 s  \n",
    "Poraba pomnilnika: 0.02 MB  \n",
    "#### Z INDEKSOM  \n",
    "Čas izvajanja: 0.1081 s  \n",
    "Poraba pomnilnika: 0.09 MB"
   ]
  },
  {
   "cell_type": "markdown",
   "id": "5c5b36a1-86ca-433c-8748-4774ecb0ce5a",
   "metadata": {},
   "source": [
    "## Poizvedba 2: Najbližji produkti znotraj določene kategorije\n",
    "\n",
    "Ta poizvedba uporablja stolpec `embedding` za iskanje najbližjih produktov določenemu ciljnemu vektorju, ki pripadajo določeni kategoriji. "
   ]
  },
  {
   "cell_type": "code",
   "execution_count": null,
   "id": "ac603950-d8b7-4ad9-82fa-cf851e37a7be",
   "metadata": {},
   "outputs": [],
   "source": [
    "import time\n",
    "import psutil\n",
    "import os\n",
    "\n",
    "# Inicializacija spremljanja pomnilnika\n",
    "process = psutil.Process(os.getpid())\n",
    "start_memory = process.memory_info().rss  # Pomnilnik na začetku v bajtih\n",
    "\n",
    "# Ciljna kategorija in embedding\n",
    "target_category = \"Musical Instruments\"\n",
    "target_embedding = model.encode(\"Electric guitar for rock music\").tolist()\n",
    "\n",
    "# Preverjanje dimenzije embeddinga\n",
    "if len(target_embedding) != 384:\n",
    "    raise ValueError(f\"Embedding mora imeti dimenzijo 384, a ima {len(target_embedding)}.\")\n",
    "\n",
    "# Začetek merjenja časa\n",
    "start_time = time.time()\n",
    "\n",
    "# SQL poizvedba za pridobitev najbližjih sosedov znotraj kategorije\n",
    "cur.execute(\"\"\"\n",
    "    SELECT id, title, main_category, embedding <-> %s::vector AS distance\n",
    "    FROM products\n",
    "    WHERE main_category = %s\n",
    "    ORDER BY distance ASC\n",
    "    LIMIT 10;\n",
    "\"\"\", (target_embedding, target_category))\n",
    "\n",
    "# Prikaz rezultatov\n",
    "results = cur.fetchall()\n",
    "end_time = time.time()\n",
    "\n",
    "# Merjenje pomnilnika po izvedbi\n",
    "end_memory = process.memory_info().rss  # Pomnilnik na koncu v bajtih\n",
    "\n",
    "# Izpis rezultatov\n",
    "print(f\"Najbližji sosedi znotraj kategorije '{target_category}' (10 rezultatov):\")\n",
    "for row in results:\n",
    "    print(f\"ID: {row[0]}, Title: {row[1]}, Category: {row[2]}, Distance: {row[3]:.4f}\")\n",
    "\n",
    "# Izračun in izpis časa izvajanja\n",
    "elapsed_time = end_time - start_time\n",
    "print(f\"Čas izvajanja: {elapsed_time:.4f} s\")\n",
    "\n",
    "# Izračun in izpis porabe pomnilnika\n",
    "memory_used = (end_memory - start_memory) / (1024 * 1024)  # Pretvorimo v MB\n",
    "print(f\"Poraba pomnilnika: {memory_used:.2f} MB\")\n"
   ]
  },
  {
   "cell_type": "markdown",
   "id": "40be8905-fea8-4d43-86d8-0b9b0ed9ea73",
   "metadata": {},
   "source": [
    "### Rezultati poizvedbe  \n",
    "Najbližji sosedi znotraj kategorije 'Musical Instruments' (10 rezultatov):  \n",
    "ID: 5937, Title: Best Choice Products Beginner Acoustic Electric Guitar Starter Set 38in w/All Wood Cutaway Design, Case, Strap, Picks, Tuner - Blue, Category: Musical Instruments, Distance: 0.8286  \n",
    "ID: 4770, Title: GLARRY Full Size Electric Guitar for Beginner with Amp and Accessories Pack Guitar Bag (Dark blue), Category: Musical Instruments, Distance: 0.8520  \n",
    "ID: 3673, Title: No Amp Required! ToneWoodAmp SOLO Multi-Effect Processor for Acoustic-Electric Guitars (Right Handed), Category: Musical Instruments, Distance: 0.8564  \n",
    "ID: 5501, Title: Amyove 39 Inch Electric Guitar, Full Size Guitar Kit, Electric Guitar Kits for Beginners with Bag, Digital Tuner, Capo, Strap, Cable, Picks (Red), Category: Musical Instruments, Distance: 0.8806  \n",
    "ID: 9897, Title: Electric Acoustic Guitar, Full Size 41 Inch Acoustic Guitar Cutaway Bundle with Pickups for Beginners Adults Teens, Matte Black, by Vangoa, Category: Musical Instruments, Distance: 0.8915  \n",
    "ID: 8808, Title: Asmuse Headless Electric Guitar, Full Size Beginner Electric Guitar Kit, HH Pickup Solid Body Electric Guitar, Guitar Starter Set with Gig Bag and Accessories, Category: Musical Instruments, Distance: 0.8980  \n",
    "ID: 2934, Title: Alvarez RD8C Acoustic Guitar, Category: Musical Instruments, Distance: 0.9022  \n",
    "ID: 2550, Title: JD.Moon Electric Guitar Body for Fender Stratocaster Strat DIY Red Walnut Wood Unfinished, Category: Musical Instruments, Distance: 0.9032  \n",
    "ID: 2150, Title: Leo Jaymz Electric Guitar Body for TL Style - Guitar Accessory DIY Green Ash Guitar Body, Category: Musical Instruments, Distance: 0.9062  \n",
    "ID: 1650, Title: LyxPro 39” SB Series Electric Guitar, Les Paul-Style Kit for Beginner, Intermediate & Pro Players Solid Body Guitar, Bonus 2-Pack of Picks, Mahogany Wood, Volume/Tone Controls, 3-Way Pickup - Sunburst, Category: Musical Instruments, Distance: 0.9124  \n",
    "#### BREZ INDEKSA\n",
    "Čas izvajanja: 0.1459 s  \n",
    "Poraba pomnilnika: 0.07 MB  \n",
    "#### Z INDEKSOM  \n",
    "Čas izvajanja: 0.0557 s  \n",
    "Poraba pomnilnika: 0.12 MB  "
   ]
  },
  {
   "cell_type": "markdown",
   "id": "1e458687-6e6a-4cd1-a81c-0c43070abde6",
   "metadata": {},
   "source": [
    "## Poizvedba 3: Najbolj oddaljeni produkti glede na embedding\n",
    "\n",
    "Ta poizvedba uporablja stolpec `embedding` za iskanje produktov, ki so najbolj oddaljeni od določenega ciljnega vektorja. \n"
   ]
  },
  {
   "cell_type": "code",
   "execution_count": null,
   "id": "00622900-609f-446c-8bd6-a261254d9f2d",
   "metadata": {},
   "outputs": [],
   "source": [
    "import time\n",
    "import psutil\n",
    "import os\n",
    "\n",
    "# Inicializacija spremljanja pomnilnika\n",
    "process = psutil.Process(os.getpid())\n",
    "start_memory = process.memory_info().rss  # Pomnilnik na začetku v bajtih\n",
    "\n",
    "# Ciljni embedding za iskanje\n",
    "target_embedding = model.encode(\"Acoustic drum set for beginners\").tolist()\n",
    "\n",
    "# Preverjanje dimenzije embeddinga\n",
    "if len(target_embedding) != 384:\n",
    "    raise ValueError(f\"Embedding mora imeti dimenzijo 384, a ima {len(target_embedding)}.\")\n",
    "\n",
    "# Začetek merjenja časa\n",
    "start_time = time.time()\n",
    "\n",
    "# SQL poizvedba za pridobitev najbolj oddaljenih produktov\n",
    "cur.execute(\"\"\"\n",
    "    SELECT id, title, main_category, embedding <-> %s::vector AS distance\n",
    "    FROM products\n",
    "    ORDER BY distance DESC\n",
    "    LIMIT 10;\n",
    "\"\"\", (target_embedding,))\n",
    "\n",
    "# Prikaz rezultatov\n",
    "results = cur.fetchall()\n",
    "end_time = time.time()\n",
    "\n",
    "# Merjenje pomnilnika po izvedbi\n",
    "end_memory = process.memory_info().rss  # Pomnilnik na koncu v bajtih\n",
    "\n",
    "# Izpis rezultatov\n",
    "print(f\"Najbolj oddaljeni produkti (10 rezultatov):\")\n",
    "for row in results:\n",
    "    print(f\"ID: {row[0]}, Title: {row[1]}, Category: {row[2]}, Distance: {row[3]:.4f}\")\n",
    "\n",
    "# Izračun in izpis časa izvajanja\n",
    "elapsed_time = end_time - start_time\n",
    "print(f\"Čas izvajanja: {elapsed_time:.4f} s\")\n",
    "\n",
    "# Izračun in izpis porabe pomnilnika\n",
    "memory_used = (end_memory - start_memory) / (1024 * 1024)  # Pretvorimo v MB\n",
    "print(f\"Poraba pomnilnika: {memory_used:.2f} MB\")\n"
   ]
  },
  {
   "cell_type": "markdown",
   "id": "56ff62fe-d881-4782-b894-0771140cbd39",
   "metadata": {},
   "source": [
    "### Rezultati poizvedbe\n",
    "Najbolj oddaljeni produkti (10 rezultatov):  \n",
    "ID: 3931, Title: for Motorola Babysense Vtech Baby Monitor 9.7 Feet Micro-USB Charger Power Cord Replacement Adapter Supply Compatible with Parent Unit MBP33S MBP36S MBP36XL MBP38S MBP41S MBP43S MBP843 MBP853 MBP854, Category: All Electronics, Distance: 1.4917  \n",
    "ID: 577, Title: UbiGear Technology Home 18kw Power Saver Save Electricity Energy 35% Less Money Us, Category: Computers, Distance: 1.4909  \n",
    "ID: 7566, Title: Belkin Conserve Insight Electric Monitor, Category: Office Products, Distance: 1.4772  \n",
    "ID: 7059, Title: Barbary Fig Seed Oil 100% pure organic anti aging Super moisturizing oil (1 fl oz), Category: All Beauty, Distance: 1.4709  \n",
    "ID: 5394, Title: hi, Category: Health & Personal Care, Distance: 1.4658  \n",
    "ID: 2623, Title: UpBright New Global 12V AC DC Adapter Compatible with Portable Oxygen Enrichment Enriched Machine MAF-605A MAF605A Power Supply Cord Cable Battery Charger Mains PSU, Category: All Electronics, Distance: 1.4632  \n",
    "ID: 9279, Title: Compatible with iPhone Cable, Category: Industrial & Scientific, Distance: 1.4568  \n",
    "ID: 9710, Title: Shure RMCE-BT2 High-Resolution Bluetooth 5.0 Communication Cable (Renewed), Category: Industrial & Scientific, Distance: 1.4565  \n",
    "ID: 7904, Title: Blizzard Lighting DMX50Q 50 Foot 3-Pin DMX Cable, Category: All Electronics, Distance: 1.4562  \n",
    "ID: 526, Title: Lynn Electronics 070 Visual Phone Strobe Flasher (2), Category: Industrial & Scientific, Distance: 1.4530  \n",
    "#### Brez indeks\n",
    "Čas izvajanja: 0.0936 s  \n",
    "Poraba pomnilnika: 0.08 MB  \n",
    "#### Z indeksom\n",
    "Čas izvajanja: 0.0736 s  \n",
    "Poraba pomnilnika: 0.07 MB  "
   ]
  },
  {
   "cell_type": "markdown",
   "id": "2501c91f-83ac-4c02-bb01-036730cd6c64",
   "metadata": {},
   "source": [
    "## Poizvedba 4: Iskanje produktov z embeddingi, ki so podobni ciljnemu, z večdimenzionalnimi filtri\n",
    "\n",
    "V tej poizvedbi iščemo najbližje izdelke ciljnemu embeddingu z dodatnimi pogoji, kot so prisotnost določenih ključnih besed v opisu in omejitve glede kategorij."
   ]
  },
  {
   "cell_type": "code",
   "execution_count": null,
   "id": "9348d336-024e-41f3-9705-f122ace38651",
   "metadata": {},
   "outputs": [],
   "source": [
    "import time\n",
    "import psutil\n",
    "import os\n",
    "\n",
    "# Inicializacija spremljanja pomnilnika\n",
    "process = psutil.Process(os.getpid())\n",
    "start_memory = process.memory_info().rss  # Pomnilnik na začetku v bajtih\n",
    "\n",
    "# Ciljni embedding za iskanje\n",
    "target_embedding = model.encode(\"High-quality drum kits with advanced features\").tolist()\n",
    "\n",
    "# Preverjanje dimenzije embeddinga\n",
    "if len(target_embedding) != 384:\n",
    "    raise ValueError(f\"Embedding mora imeti dimenzijo 384, a ima {len(target_embedding)}.\")\n",
    "\n",
    "# Začetek merjenja časa\n",
    "start_time = time.time()\n",
    "\n",
    "# SQL poizvedba za pridobitev najbližjih produktov z večdimenzionalnimi filtri\n",
    "cur.execute(\"\"\"\n",
    "    SELECT id, title, main_category, description, embedding <-> %s::vector AS distance\n",
    "    FROM products\n",
    "    WHERE 'Drums & Percussion' = ANY(categories)  -- Pogoj za filtriranje po kategoriji\n",
    "      AND description IS NOT NULL                 -- Preverimo, da opis ni NULL\n",
    "      AND description ILIKE '%%advanced%%'        -- Pogoj za prisotnost besede 'advanced' v opisu\n",
    "    ORDER BY distance ASC\n",
    "    LIMIT 10;\n",
    "\"\"\", (target_embedding,))\n",
    "\n",
    "# Prikaz rezultatov\n",
    "results = cur.fetchall()\n",
    "end_time = time.time()\n",
    "\n",
    "# Merjenje pomnilnika po izvedbi\n",
    "end_memory = process.memory_info().rss  # Pomnilnik na koncu v bajtih\n",
    "\n",
    "# Izpis rezultatov\n",
    "print(f\"Najbližji produkti z dodatnimi filtri (10 rezultatov):\")\n",
    "for row in results:\n",
    "    print(f\"ID: {row[0]}, Title: {row[1]}, Category: {row[2]}, Description: {row[3][:50]}..., Distance: {row[4]:.4f}\")\n",
    "\n",
    "# Izračun in izpis časa izvajanja\n",
    "elapsed_time = end_time - start_time\n",
    "print(f\"Čas izvajanja: {elapsed_time:.4f} s\")\n",
    "\n",
    "# Izračun in izpis porabe pomnilnika\n",
    "memory_used = (end_memory - start_memory) / (1024 * 1024)  # Pretvorimo v MB\n",
    "print(f\"Poraba pomnilnika: {memory_used:.2f} MB\")\n"
   ]
  },
  {
   "cell_type": "markdown",
   "id": "68b1a3b5-1058-42cb-b63d-0e1b228abd22",
   "metadata": {},
   "source": [
    "### Rezultati poizvedbe\n",
    "Najbližji produkti z dodatnimi filtri (10 rezultatov):  \n",
    "ID: 4868, Title: Yamaha DTX502 Electronic Drum Trigger Module, Category: Musical Instruments, Description: {\"With almost twice the wave ROM and more than 250..., Distance: 1.0459  \n",
    "ID: 4710, Title: Eastar Cabasa Musical Instrument Percussion Instrument Hand Shaker with Stainless Steel Beads and Wooden Handle for Students Kids Classroom Band, Small Size, Category: Musical Instruments, Description: {\"Eastar Would Never Disappoint You. Eastar Cabasa..., Distance: 1.0797  \n",
    "ID: 4906, Title: Pearl MBS-3000 Marching Bass Drum Stand, Category: Musical Instruments, Description: {\"This completely height-adjustable stand features..., Distance: 1.1491  \n",
    "ID: 7570, Title: Meinl Cymbals GX-8/10ES Generation-X 8\" and 10\" Electro Stack Cymbal Pair (VIDEO), Category: Musical Instruments, Description: {\"The GENERATION X ELECTRO STACKS have a hard, siz..., Distance: 1.1964  \n",
    "ID: 1179, Title: SENSOR ACTUATOR Fits ROLAND FD-8, TD-1 TD-11 TD-15 TD-17 Hi Hat Pedal Rubber Part (One Rubber), Category: Musical Instruments, Description: {\"Name: Hi Hat Pedal SENSOR and Rubber part Suit f..., Distance: 1.1999  \n",
    "#### Brez indeksa\n",
    "Čas izvajanja: 0.2685 s  \n",
    "Poraba pomnilnika: 0.05 MB  \n",
    "#### Z indeksom\n",
    "Čas izvajanja: 0.2140 s  \n",
    "Poraba pomnilnika: 0.03 MB"
   ]
  },
  {
   "cell_type": "markdown",
   "id": "4e6ef1f8-0e45-486b-b703-c4fc04b35dfd",
   "metadata": {},
   "source": [
    "## Uporaba indeksov na stolpcu embedding\n",
    "\n",
    "Indeks na stolpcu `embedding` omogoča hitrejše izvajanje poizvedb, ki uporabljajo operator **`<->`** za izračun razdalje med vektorji. PostgreSQL omogoča uporabo indeksa vrste `ivfflat`, kar omogoča optimizacijo iskanja najbližjih sosedov v veliki množici podatkov.\n",
    "\n",
    "### Koraki:\n",
    "1. Ustvarimo indeks na stolpcu `embedding`.\n",
    "2. Primerjamo čas izvajanja poizvedb **brez indeksa** in **z indeksom**.\n",
    "3. Izvajamo enake poizvedbe kot prej in ocenimo izboljšave zmogljivosti.\n"
   ]
  },
  {
   "cell_type": "code",
   "execution_count": 42,
   "id": "a2df35fe-9653-4181-89b5-837da6f1f286",
   "metadata": {},
   "outputs": [
    {
     "name": "stdout",
     "output_type": "stream",
     "text": [
      "Indeks uspešno ustvarjen. Čas: 1.3894 s\n"
     ]
    }
   ],
   "source": [
    "# Ustvarimo indeks na stolpcu embedding\n",
    "start_time = time.time()\n",
    "\n",
    "cur.execute(\"\"\"\n",
    "    CREATE INDEX IF NOT EXISTS products_embedding_idx\n",
    "    ON products\n",
    "    USING ivfflat (embedding)\n",
    "    WITH (lists = 100);  -- Parameter za zmogljivost indeksa\n",
    "\"\"\")\n",
    "conn.commit()\n",
    "\n",
    "end_time = time.time()\n",
    "print(f\"Indeks uspešno ustvarjen. Čas: {end_time - start_time:.4f} s\")\n"
   ]
  },
  {
   "cell_type": "markdown",
   "id": "f64ab658-2e8f-4b90-b613-069746135ff1",
   "metadata": {},
   "source": [
    "## Zaključek\n",
    "\n",
    "V tej nalogi smo raziskali uporabo PostgreSQL **pgvector** razširitve za delo z vektorskimi podatki in izvedli številne operacije, da smo ocenili zmogljivost ter uporabnost te tehnologije.\n",
    "\n",
    "### Povzetek dela:\n",
    "1. **Ustvarjanje in populacija baze podatkov:**\n",
    "   - Ustvarili smo tabelo `products`, ki vključuje atribute, kot so `main_category`, `title`, `description`, `features`, `categories`, in **`embedding`** za vektorske predstavitve podatkov.\n",
    "   - Generirali smo embeddinge za vse zapise z uporabo modela **SentenceTransformer** ter jih shranili v tabelo.\n",
    "\n",
    "2. **CRUD operacije:**\n",
    "   - Izvedli smo osnovne CRUD operacije (Create, Read, Update, Delete) na tabeli `products`, pri čemer smo merili čas izvajanja in porabo pomnilnika za vsako operacijo.\n",
    "\n",
    "3. **Poizvedbe brez indeksa:**\n",
    "   - Izvedli smo več poizvedb za iskanje najbližjih sosedov glede na embedding ciljne poizvedbe.\n",
    "   - Implementirali smo različne scenarije, vključno s filtriranjem po kategorijah in ključnih besedah v opisu.\n",
    "   - Merili smo čas izvajanja in porabo pomnilnika za vsako poizvedbo.\n",
    "\n",
    "4. **Uporaba indeksa:**\n",
    "   - Na stolpcu `embedding` smo ustvarili **ivfflat indeks**, ki omogoča optimizacijo iskanja najbližjih sosedov.\n",
    "   - Ponovili smo ključne poizvedbe in opazovali izboljšave v hitrosti izvajanja ter učinkovitosti pomnilnika.\n",
    "\n",
    "5. **Analiza rezultatov:**\n",
    "   - Primerjali smo čas izvajanja in porabo pomnilnika za poizvedbe **brez indeksa** in **z indeksom**.\n",
    "   - Ugotovili smo, da indeksiranje znatno izboljša zmogljivost, zlasti pri iskanju na večjih množicah podatkov.\n",
    "\n",
    "### Ključne ugotovitve:\n",
    "- **pgvector** je izjemno zmogljiva razširitev za delo z vektorskimi podatki znotraj PostgreSQL, kar omogoča učinkovito iskanje najbližjih sosedov.\n",
    "- **Indeksiranje** bistveno izboljša zmogljivost pri velikih naborih podatkov in omogoča hitro iskanje relevantnih rezultatov.\n",
    "- Integracija z modeli za generiranje embeddingov, kot je **SentenceTransformer**, omogoča preprosto ustvarjanje vektorskih predstavitev za kompleksne podatke.\n",
    "\n",
    "### Zaključek:\n",
    "S tem delom smo pokazali, kako lahko z uporabo PostgreSQL **pgvector** razširitve in naprednih modelov za generiranje embeddingov izboljšamo analizo podatkov ter učinkovitost poizvedb na velikih množicah podatkov. To odpira vrata za uporabo v različnih aplikacijah, kot so priporočilni sistemi, iskalni mehanizmi in analitični modeli.\n",
    "\n"
   ]
  },
  {
   "cell_type": "code",
   "execution_count": null,
   "id": "31b2cb04-a11e-4990-b70a-11a563beba1d",
   "metadata": {},
   "outputs": [],
   "source": []
  }
 ],
 "metadata": {
  "kernelspec": {
   "display_name": "Python 3 (ipykernel)",
   "language": "python",
   "name": "python3"
  },
  "language_info": {
   "codemirror_mode": {
    "name": "ipython",
    "version": 3
   },
   "file_extension": ".py",
   "mimetype": "text/x-python",
   "name": "python",
   "nbconvert_exporter": "python",
   "pygments_lexer": "ipython3",
   "version": "3.11.0"
  }
 },
 "nbformat": 4,
 "nbformat_minor": 5
}
