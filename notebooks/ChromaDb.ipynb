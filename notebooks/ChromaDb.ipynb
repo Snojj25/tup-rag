{
 "cells": [
  {
   "cell_type": "markdown",
   "metadata": {},
   "source": [
    "# Chroma DB"
   ]
  },
  {
   "cell_type": "markdown",
   "metadata": {},
   "source": [
    "## Initialie a connection to Chroma DB\n",
    "\n",
    "First you need to pull and run a chromaDb docker image: \n",
    "```\n",
    "docker pull ...\n",
    "```\n",
    "\n",
    "Then we define the \n"
   ]
  },
  {
   "cell_type": "code",
   "execution_count": 1,
   "metadata": {},
   "outputs": [
    {
     "name": "stderr",
     "output_type": "stream",
     "text": [
      "/home/snojj/Desktop/FAKS/tup/rag/venv/lib/python3.12/site-packages/tqdm/auto.py:21: TqdmWarning: IProgress not found. Please update jupyter and ipywidgets. See https://ipywidgets.readthedocs.io/en/stable/user_install.html\n",
      "  from .autonotebook import tqdm as notebook_tqdm\n"
     ]
    }
   ],
   "source": [
    "# import chromadb\n",
    "from chromadb import HttpClient, Documents, EmbeddingFunction, Embeddings\n",
    "import uuid\n",
    "import time\n",
    "import numpy as np\n",
    "\n",
    "from utils.embedder import embedd_sequences\n",
    "\n",
    "chroma_client = HttpClient(host=\"localhost\", port=8000)\n",
    "chroma_client.heartbeat()\n",
    "\n",
    "\n",
    "class MyEmbeddingFunction(EmbeddingFunction):\n",
    "    emb_func = None\n",
    "\n",
    "    def __init__(self, func):\n",
    "        self.emb_func = func\n",
    "\n",
    "    def __call__(self, input: Documents) -> Embeddings:\n",
    "        return self.emb_func(input)\n",
    "\n",
    "\n",
    "def get_collection(collection_name, embedding_func=embedd_sequences, metadata=None):\n",
    "\n",
    "    if embedding_func:\n",
    "        my_embedding_function = MyEmbeddingFunction(embedding_func)\n",
    "\n",
    "        collection = chroma_client.get_or_create_collection(\n",
    "            name=collection_name, embedding_function=my_embedding_function, metadata=metadata\n",
    "        )\n",
    "    else:\n",
    "        collection = chroma_client.get_or_create_collection(name=collection_name, metadata=metadata)\n",
    "\n",
    "    return collection\n",
    "\n"
   ]
  },
  {
   "cell_type": "code",
   "execution_count": 2,
   "metadata": {},
   "outputs": [],
   "source": [
    "def _generate_uuid_ids(n):\n",
    "    \"\"\"Generate array of n UUID-based IDs\"\"\"\n",
    "    return [str(uuid.uuid4()) for _ in range(n)]\n",
    "\n",
    "\n",
    "def insert_documents_chroma(collection, documents=None, embeddings=None):\n",
    "\n",
    "    if (embeddings == None) == (documents == None):\n",
    "        raise \"Either documents or embeddings must be provided, but not both.\"\n",
    "\n",
    "    ids = _generate_uuid_ids(len(documents) if documents else len(embeddings))\n",
    "\n",
    "    collection.upsert(documents=documents, embeddings=embeddings, ids=ids)"
   ]
  },
  {
   "cell_type": "code",
   "execution_count": 3,
   "metadata": {},
   "outputs": [],
   "source": [
    "def get_documents_chroma(collection, query_texts=None, query_embeddings=None, top_k=1):\n",
    "\n",
    "    if (query_texts == None) == (query_embeddings == None):\n",
    "        raise \"Either query_texts or query_embeddings must be provided, but not both.\"\n",
    "\n",
    "    results = collection.query(\n",
    "        query_texts=query_texts,\n",
    "        query_embeddings=query_embeddings,\n",
    "        n_results=top_k,\n",
    "    )\n",
    "\n",
    "    return results"
   ]
  },
  {
   "cell_type": "code",
   "execution_count": 12,
   "metadata": {},
   "outputs": [
    {
     "name": "stdout",
     "output_type": "stream",
     "text": [
      "Inserted 99999 vectors in 147.54s\n",
      "Search time: 8.69s\n",
      "\n",
      "Search results:\n",
      "ID: ['54dbc9b7-0f98-44eb-9e29-3be522f8d506', 'b04c54b9-69cf-45f5-9c95-dfbf5769b039', 'f4ab6953-c865-478c-83a8-39095c3fb49d', '662e3482-853b-47d0-8f2a-b758d2751cb8', '3187c38c-2c2c-4c4d-b30c-30ee76669897'], Distance: [0.15586870908737183, 0.1572704315185547, 0.15884286165237427, 0.16087007522583008, 0.1609046459197998]\n"
     ]
    }
   ],
   "source": [
    "# For Better accuracy  \n",
    "collection = get_collection(\n",
    "    \"accurate_search\", \n",
    "    metadata={  \n",
    "            \"hnsw:space\": \"cosine\",  # or \"l2\", \"ip\" depending on your needs  \n",
    "            \"hnsw:construction_ef\": 200, # More accurate but slower to build \n",
    "            \"hnsw:search_ef\": 100  # More accurate search but slower  \n",
    "        } \n",
    ")  \n",
    "\n",
    "\n",
    " # Create some random vectors and metadata\n",
    "num_vectors = 99999\n",
    "vectors = (\n",
    "    np.random.random((num_vectors, 128)).astype(np.float32)\n",
    ")  # Ensure float32 type\n",
    "arr1, arr2, arr3 = np.split(vectors, 3)\n",
    "\n",
    "\n",
    " # Insert vectors\n",
    "t1 = time.time()\n",
    "for arr in [arr1, arr2, arr3]:\n",
    "    insert_documents_chroma(collection, embeddings=arr.tolist())\n",
    "print(f\"Inserted {num_vectors} vectors in {time.time() - t1:.2f}s\")\n",
    "\n",
    "# Perform a search\n",
    "t1 = time.time()\n",
    "query = np.random.random(128).astype(np.float32).tolist()  # Ensure float32 type\n",
    "for _ in range(10):\n",
    "    results = get_documents_chroma(collection, query_embeddings=query, top_k=5)\n",
    "print(f\"Search time: {time.time() - t1:.2f}s\")\n",
    "\n",
    "print(\"\\nSearch results:\")\n",
    "for i in range(len(results[\"ids\"])):\n",
    "    print(f\"ID: {results[\"ids\"][i]}, Distance: {results[\"distances\"][i]}\")\n",
    "\n",
    "chroma_client.delete_collection(name=\"accurate_search\")\n"
   ]
  },
  {
   "cell_type": "code",
   "execution_count": 14,
   "metadata": {},
   "outputs": [
    {
     "name": "stdout",
     "output_type": "stream",
     "text": [
      "Inserted 99999 vectors in 113.03s\n",
      "Search time: 7.71s\n",
      "\n",
      "Search results:\n",
      "ID: ['9e10b4cf-6c86-45dd-ae87-b7a4be0143b8', 'b17781b6-4111-4aea-b40e-c0fbc9187c82', 'aa70b542-00fb-48f8-ad7a-07b7f27144ad', '79d4f744-c3f3-42e7-8319-62b24d4834af', 'e3176842-48ca-40f9-bede-0c233cdbb239'], Distance: [0.162758469581604, 0.1653081178665161, 0.1695802423607744, 0.17163366079330444, 0.17198646068572998]\n"
     ]
    }
   ],
   "source": [
    "# For Better accuracy  \n",
    "collection = get_collection(\n",
    "    \"fast_search\", \n",
    "    metadata={  \n",
    "            \"hnsw:space\": \"cosine\", \n",
    "            \"hnsw:search_ef\": 20,  # Faster search but less accurate  \n",
    "            \"hnsw:construction_ef\": 40 # Faster to build but less accurate  \n",
    "        } \n",
    ")  \n",
    "\n",
    "\n",
    " # Create some random vectors and metadata\n",
    "num_vectors = 99999\n",
    "vectors = (\n",
    "    np.random.random((num_vectors, 128)).astype(np.float32)\n",
    ")  # Ensure float32 type\n",
    "arr1, arr2, arr3 = np.split(vectors, 3)\n",
    "\n",
    "\n",
    " # Insert vectors\n",
    "t1 = time.time()\n",
    "for arr in [arr1, arr2, arr3]:\n",
    "    insert_documents_chroma(collection, embeddings=arr.tolist())\n",
    "print(f\"Inserted {num_vectors} vectors in {time.time() - t1:.2f}s\")\n",
    "\n",
    "# Perform a search\n",
    "t1 = time.time()\n",
    "query = np.random.random(128).astype(np.float32).tolist()  # Ensure float32 type\n",
    "for _ in range(10):\n",
    "    results = get_documents_chroma(collection, query_embeddings=query, top_k=5)\n",
    "print(f\"Search time: {time.time() - t1:.2f}s\")\n",
    "\n",
    "print(\"\\nSearch results:\")\n",
    "for i in range(len(results[\"ids\"])):\n",
    "    print(f\"ID: {results[\"ids\"][i]}, Distance: {results[\"distances\"][i]}\")\n",
    "\n",
    "chroma_client.delete_collection(name=\"fast_search\")"
   ]
  },
  {
   "cell_type": "code",
   "execution_count": null,
   "metadata": {},
   "outputs": [],
   "source": []
  }
 ],
 "metadata": {
  "kernelspec": {
   "display_name": "venv",
   "language": "python",
   "name": "python3"
  },
  "language_info": {
   "codemirror_mode": {
    "name": "ipython",
    "version": 3
   },
   "file_extension": ".py",
   "mimetype": "text/x-python",
   "name": "python",
   "nbconvert_exporter": "python",
   "pygments_lexer": "ipython3",
   "version": "3.12.3"
  }
 },
 "nbformat": 4,
 "nbformat_minor": 2
}
