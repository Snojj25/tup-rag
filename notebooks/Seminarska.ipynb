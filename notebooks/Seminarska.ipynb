{
 "cells": [
  {
   "cell_type": "markdown",
   "id": "bd4a5dd3",
   "metadata": {},
   "source": [
    "# 1. Namestitev knjižnic\n",
    "Za delo s PostgreSQL v Pythonu potrebujemo knjižnico `psycopg2`. To knjižnico namestimo z uporabo ukaza `pip install psycopg2`."
   ]
  },
  {
   "cell_type": "markdown",
   "id": "13fb6add",
   "metadata": {},
   "source": [
    "# 2. Povezava z bazo PostgreSQL\n",
    "Vzpostavimo povezavo z bazo PostgreSQL. Uporabimo ime baze, uporabniško ime, geslo, gostitelja (`localhost`) in vrata (`5432`)."
   ]
  },
  {
   "cell_type": "code",
   "execution_count": 1,
   "id": "375c937d",
   "metadata": {},
   "outputs": [
    {
     "ename": "ModuleNotFoundError",
     "evalue": "No module named 'psycopg2'",
     "output_type": "error",
     "traceback": [
      "\u001b[0;31m---------------------------------------------------------------------------\u001b[0m",
      "\u001b[0;31mModuleNotFoundError\u001b[0m                       Traceback (most recent call last)",
      "Cell \u001b[0;32mIn[1], line 1\u001b[0m\n\u001b[0;32m----> 1\u001b[0m \u001b[38;5;28;01mimport\u001b[39;00m \u001b[38;5;21;01mpsycopg2\u001b[39;00m\n\u001b[1;32m      3\u001b[0m \u001b[38;5;66;03m# Povezava z bazo PostgreSQL\u001b[39;00m\n\u001b[1;32m      4\u001b[0m conn \u001b[38;5;241m=\u001b[39m psycopg2\u001b[38;5;241m.\u001b[39mconnect(\n\u001b[1;32m      5\u001b[0m     dbname\u001b[38;5;241m=\u001b[39m\u001b[38;5;124m\"\u001b[39m\u001b[38;5;124mpgvector_test\u001b[39m\u001b[38;5;124m\"\u001b[39m,  \u001b[38;5;66;03m# Ime baze\u001b[39;00m\n\u001b[1;32m      6\u001b[0m     user\u001b[38;5;241m=\u001b[39m\u001b[38;5;124m\"\u001b[39m\u001b[38;5;124mtest_user\u001b[39m\u001b[38;5;124m\"\u001b[39m,        \u001b[38;5;66;03m# Uporabniško ime PostgreSQL\u001b[39;00m\n\u001b[0;32m   (...)\u001b[0m\n\u001b[1;32m      9\u001b[0m     port\u001b[38;5;241m=\u001b[39m\u001b[38;5;124m\"\u001b[39m\u001b[38;5;124m5432\u001b[39m\u001b[38;5;124m\"\u001b[39m              \u001b[38;5;66;03m# Privzeta vrata PostgreSQL\u001b[39;00m\n\u001b[1;32m     10\u001b[0m )\n",
      "\u001b[0;31mModuleNotFoundError\u001b[0m: No module named 'psycopg2'"
     ]
    }
   ],
   "source": [
    "import psycopg2\n",
    "\n",
    "# Povezava z bazo PostgreSQL\n",
    "conn = psycopg2.connect(\n",
    "    dbname=\"pgvector_test\",  # Ime baze\n",
    "    user=\"test_user\",        # Uporabniško ime PostgreSQL\n",
    "    password=\"123\",          # Geslo za PostgreSQL\n",
    "    host=\"localhost\",        # Gostitelj (npr. localhost)\n",
    "    port=\"5432\"              # Privzeta vrata PostgreSQL\n",
    ")\n",
    "\n",
    "# Ustvarimo kurzor za izvajanje poizvedb\n",
    "cursor = conn.cursor()\n",
    "print(\"Povezava z bazo je uspešna!\")\n"
   ]
  },
  {
   "cell_type": "markdown",
   "id": "9660d1fe",
   "metadata": {},
   "source": [
    "# 3. Ustvarjanje razširitve `pgvector`\n",
    "Preverimo, ali je razširitev `pgvector` nameščena v bazi. Če razširitev še ne obstaja, jo ustvarimo z ukazom `CREATE EXTENSION`."
   ]
  },
  {
   "cell_type": "code",
   "execution_count": 8,
   "id": "b5601487",
   "metadata": {},
   "outputs": [
    {
     "name": "stdout",
     "output_type": "stream",
     "text": [
      "Razširitev pgvector je omogočena.\n"
     ]
    }
   ],
   "source": [
    "cursor.execute(\"CREATE EXTENSION IF NOT EXISTS vector;\")\n",
    "conn.commit()\n",
    "print(\"Razširitev pgvector je omogočena.\")\n"
   ]
  },
  {
   "cell_type": "markdown",
   "id": "bfb9c636",
   "metadata": {},
   "source": [
    "# 4. Ustvarjanje tabele\n",
    "Ustvarimo tabelo `products` z naslednjimi polji:\n",
    "- `id`: Unikatni identifikator izdelka (avtomatsko se povečuje).\n",
    "- `name`: Ime izdelka (besedilo).\n",
    "- `embedding`: Vektorska predstavitev izdelka, ki vsebuje 3 vrednosti.\n"
   ]
  },
  {
   "cell_type": "code",
   "execution_count": 9,
   "id": "021440ea",
   "metadata": {},
   "outputs": [
    {
     "name": "stdout",
     "output_type": "stream",
     "text": [
      "Tabela 'products' je uspešno ustvarjena.\n"
     ]
    }
   ],
   "source": [
    "cursor.execute(\"\"\"\n",
    "CREATE TABLE IF NOT EXISTS products (\n",
    "    id SERIAL PRIMARY KEY,\n",
    "    name TEXT NOT NULL,\n",
    "    embedding VECTOR(3) -- Dolžina vektorja (3 za primer)\n",
    ");\n",
    "\"\"\")\n",
    "conn.commit()\n",
    "print(\"Tabela 'products' je uspešno ustvarjena.\")\n"
   ]
  },
  {
   "cell_type": "markdown",
   "id": "6e036e31",
   "metadata": {},
   "source": [
    "# 5. Vstavljanje podatkov\n",
    "Dodamo nekaj izdelkov z njihovimi vektorskimi predstavitvami v tabelo `products`.\n",
    "Vsak vektor vsebuje 3 vrednosti, ki predstavljajo lastnosti izdelka.\n"
   ]
  },
  {
   "cell_type": "code",
   "execution_count": 10,
   "id": "067bf0dd",
   "metadata": {},
   "outputs": [
    {
     "name": "stdout",
     "output_type": "stream",
     "text": [
      "Podatki so uspešno vstavljeni.\n"
     ]
    }
   ],
   "source": [
    "data = [\n",
    "    ('Jakna', [0.1, 0.2, 0.3]),\n",
    "    ('Hlače', [0.2, 0.3, 0.4]),\n",
    "    ('Majica', [0.3, 0.2, 0.1])\n",
    "]\n",
    "\n",
    "for name, embedding in data:\n",
    "    cursor.execute(\"INSERT INTO products (name, embedding) VALUES (%s, %s)\", (name, embedding))\n",
    "conn.commit()\n",
    "print(\"Podatki so uspešno vstavljeni.\")\n"
   ]
  },
  {
   "cell_type": "markdown",
   "id": "1236dd7e",
   "metadata": {},
   "source": [
    "# 6. Iskanje podobnih vektorjev\n",
    "Poiščemo izdelek, ki je najbolj podoben določenemu vektorju `[0.25, 0.3, 0.35]`.\n",
    "Uporabimo operator `<->`, ki izračuna razdaljo med vektorji."
   ]
  },
  {
   "cell_type": "code",
   "execution_count": 11,
   "id": "774818cc",
   "metadata": {},
   "outputs": [
    {
     "name": "stdout",
     "output_type": "stream",
     "text": [
      "Najbolj podoben izdelek: Hlače\n"
     ]
    }
   ],
   "source": [
    "search_vector = [0.25, 0.3, 0.35]\n",
    "cursor.execute(\"\"\"\n",
    "SELECT name, embedding\n",
    "FROM products\n",
    "ORDER BY embedding <-> %s::vector\n",
    "LIMIT 1;\n",
    "\"\"\", (search_vector,))\n",
    "result = cursor.fetchone()\n",
    "print(\"Najbolj podoben izdelek:\", result[0])"
   ]
  },
  {
   "cell_type": "markdown",
   "id": "a565c282",
   "metadata": {},
   "source": [
    "# 7. Posodobitev podatkov\n",
    "Posodobimo vektorsko predstavitev za določen izdelek. V tem primeru posodobimo vektor izdelka `Jakna` na `[0.15, 0.25, 0.35]`."
   ]
  },
  {
   "cell_type": "code",
   "execution_count": 12,
   "id": "e22d4d46",
   "metadata": {},
   "outputs": [
    {
     "name": "stdout",
     "output_type": "stream",
     "text": [
      "Vektorska predstavitev izdelka 'Jakna' je posodobljena.\n"
     ]
    }
   ],
   "source": [
    "cursor.execute(\"\"\"\n",
    "UPDATE products\n",
    "SET embedding = %s::vector\n",
    "WHERE name = %s;\n",
    "\"\"\", ([0.15, 0.25, 0.35], 'Jakna'))\n",
    "conn.commit()\n",
    "print(\"Vektorska predstavitev izdelka 'Jakna' je posodobljena.\")\n"
   ]
  },
  {
   "cell_type": "markdown",
   "id": "ad189f74",
   "metadata": {},
   "source": [
    "# 8. Brisanje podatkov\n",
    "Iz tabele izbrišemo izdelek z imenom `Majica`."
   ]
  },
  {
   "cell_type": "code",
   "execution_count": null,
   "id": "29635b65",
   "metadata": {},
   "outputs": [],
   "source": [
    "cursor.execute(\"\"\"\n",
    "DELETE FROM products\n",
    "WHERE name = %s;\n",
    "\"\"\", ('Majica',))\n",
    "conn.commit()\n",
    "print(\"Izdelek 'Majica' je izbrisan.\")"
   ]
  },
  {
   "cell_type": "markdown",
   "id": "57553764",
   "metadata": {},
   "source": [
    "# 9. Cosinusna podobnost\n",
    "Cosinusna podobnost se pogosto uporablja za merjenje podobnosti med vektorji. Rezultat se giblje med -1 in 1:\n",
    "- **1:** Popolna podobnost.\n",
    "- **0:** Popolna neodvisnost.\n",
    "- **-1:** Popolno nasprotje.\n",
    "\n",
    "V tej tabeli računamo cosinusno podobnost med podanim vektorjem in vektorji v tabeli `products`."
   ]
  },
  {
   "cell_type": "code",
   "execution_count": 19,
   "id": "c951a282",
   "metadata": {},
   "outputs": [
    {
     "name": "stdout",
     "output_type": "stream",
     "text": [
      "Top 3 najbolj podobni izdelki:\n",
      "Izdelek: Hlače, Cosinusna podobnost: 0.9915\n",
      "Izdelek: Jakna, Cosinusna podobnost: 0.9838\n",
      "Izdelek: Majica, Cosinusna podobnost: 0.8664\n"
     ]
    }
   ],
   "source": [
    "search_vector = [0.25, 0.3, 0.35]\n",
    "cursor.execute(\"\"\"\n",
    "SELECT name, (1 - (embedding <=> %s::vector)) AS similarity\n",
    "FROM products\n",
    "ORDER BY similarity DESC\n",
    "LIMIT 3;\n",
    "\"\"\", (search_vector,))\n",
    "results = cursor.fetchall()\n",
    "\n",
    "print(\"Top 3 najbolj podobni izdelki:\")\n",
    "for name, similarity in results:\n",
    "    print(f\"Izdelek: {name}, Cosinusna podobnost: {similarity:.4f}\")"
   ]
  },
  {
   "cell_type": "markdown",
   "id": "0507a6ff",
   "metadata": {},
   "source": [
    "# 10. Iskanje vektorjev z določeno razdaljo\n",
    "Ta funkcionalnost omogoča iskanje vseh vektorjev, katerih razdalja od iskalnega vektorja je manjša od določene meje (npr. 0.1).\n",
    "Uporabno za iskanje izdelkov, ki so dovolj podobni določenemu iskalnemu profilu."
   ]
  },
  {
   "cell_type": "code",
   "execution_count": 20,
   "id": "e9995980",
   "metadata": {},
   "outputs": [
    {
     "name": "stdout",
     "output_type": "stream",
     "text": [
      "Izdelki z razdaljo manj kot 0.1:\n",
      "Izdelek: Hlače, Razdalja: 0.0000\n",
      "Izdelek: Jakna, Razdalja: 0.0866\n"
     ]
    }
   ],
   "source": [
    "search_vector = [0.2, 0.3, 0.4]\n",
    "distance_threshold = 0.1\n",
    "\n",
    "cursor.execute(\"\"\"\n",
    "SELECT name, embedding <-> %s::vector AS distance\n",
    "FROM products\n",
    "WHERE embedding <-> %s::vector < %s\n",
    "ORDER BY distance ASC;\n",
    "\"\"\", (search_vector, search_vector, distance_threshold))\n",
    "results = cursor.fetchall()\n",
    "\n",
    "print(\"Izdelki z razdaljo manj kot 0.1:\")\n",
    "for name, distance in results:\n",
    "    print(f\"Izdelek: {name}, Razdalja: {distance:.4f}\")\n"
   ]
  },
  {
   "cell_type": "code",
   "execution_count": null,
   "id": "6bb8c572",
   "metadata": {},
   "outputs": [],
   "source": []
  }
 ],
 "metadata": {
  "kernelspec": {
   "display_name": "venv",
   "language": "python",
   "name": "python3"
  },
  "language_info": {
   "codemirror_mode": {
    "name": "ipython",
    "version": 3
   },
   "file_extension": ".py",
   "mimetype": "text/x-python",
   "name": "python",
   "nbconvert_exporter": "python",
   "pygments_lexer": "ipython3",
   "version": "3.12.3"
  }
 },
 "nbformat": 4,
 "nbformat_minor": 5
}
